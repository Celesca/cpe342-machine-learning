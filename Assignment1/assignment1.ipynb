{
 "cells": [
  {
   "cell_type": "code",
   "execution_count": 1,
   "metadata": {},
   "outputs": [],
   "source": [
    "import pandas as pd\n",
    "import numpy as np\n",
    "\n",
    "df = pd.read_csv('data.csv')"
   ]
  },
  {
   "cell_type": "code",
   "execution_count": 2,
   "metadata": {},
   "outputs": [
    {
     "data": {
      "text/html": [
       "<div>\n",
       "<style scoped>\n",
       "    .dataframe tbody tr th:only-of-type {\n",
       "        vertical-align: middle;\n",
       "    }\n",
       "\n",
       "    .dataframe tbody tr th {\n",
       "        vertical-align: top;\n",
       "    }\n",
       "\n",
       "    .dataframe thead th {\n",
       "        text-align: right;\n",
       "    }\n",
       "</style>\n",
       "<table border=\"1\" class=\"dataframe\">\n",
       "  <thead>\n",
       "    <tr style=\"text-align: right;\">\n",
       "      <th></th>\n",
       "      <th>Month</th>\n",
       "      <th>Advertising Budget (X)</th>\n",
       "      <th>Sales (Y)</th>\n",
       "    </tr>\n",
       "  </thead>\n",
       "  <tbody>\n",
       "    <tr>\n",
       "      <th>0</th>\n",
       "      <td>1</td>\n",
       "      <td>3.0</td>\n",
       "      <td>6.0</td>\n",
       "    </tr>\n",
       "    <tr>\n",
       "      <th>1</th>\n",
       "      <td>2</td>\n",
       "      <td>5.0</td>\n",
       "      <td>9.0</td>\n",
       "    </tr>\n",
       "    <tr>\n",
       "      <th>2</th>\n",
       "      <td>3</td>\n",
       "      <td>2.0</td>\n",
       "      <td>4.0</td>\n",
       "    </tr>\n",
       "    <tr>\n",
       "      <th>3</th>\n",
       "      <td>4</td>\n",
       "      <td>7.0</td>\n",
       "      <td>10.0</td>\n",
       "    </tr>\n",
       "    <tr>\n",
       "      <th>4</th>\n",
       "      <td>5</td>\n",
       "      <td>8.0</td>\n",
       "      <td>12.0</td>\n",
       "    </tr>\n",
       "    <tr>\n",
       "      <th>5</th>\n",
       "      <td>6</td>\n",
       "      <td>1.0</td>\n",
       "      <td>3.0</td>\n",
       "    </tr>\n",
       "    <tr>\n",
       "      <th>6</th>\n",
       "      <td>7</td>\n",
       "      <td>4.0</td>\n",
       "      <td>7.0</td>\n",
       "    </tr>\n",
       "    <tr>\n",
       "      <th>7</th>\n",
       "      <td>8</td>\n",
       "      <td>6.0</td>\n",
       "      <td>8.0</td>\n",
       "    </tr>\n",
       "    <tr>\n",
       "      <th>8</th>\n",
       "      <td>9</td>\n",
       "      <td>9.0</td>\n",
       "      <td>13.0</td>\n",
       "    </tr>\n",
       "    <tr>\n",
       "      <th>9</th>\n",
       "      <td>10</td>\n",
       "      <td>10.0</td>\n",
       "      <td>15.0</td>\n",
       "    </tr>\n",
       "  </tbody>\n",
       "</table>\n",
       "</div>"
      ],
      "text/plain": [
       "   Month  Advertising Budget (X)  Sales (Y)\n",
       "0      1                     3.0        6.0\n",
       "1      2                     5.0        9.0\n",
       "2      3                     2.0        4.0\n",
       "3      4                     7.0       10.0\n",
       "4      5                     8.0       12.0\n",
       "5      6                     1.0        3.0\n",
       "6      7                     4.0        7.0\n",
       "7      8                     6.0        8.0\n",
       "8      9                     9.0       13.0\n",
       "9     10                    10.0       15.0"
      ]
     },
     "metadata": {},
     "output_type": "display_data"
    }
   ],
   "source": [
    "display(df)"
   ]
  },
  {
   "cell_type": "markdown",
   "metadata": {},
   "source": [
    "### Task 1 : Implement OLS regression"
   ]
  },
  {
   "cell_type": "markdown",
   "metadata": {},
   "source": [
    "- a. Use the data provided to fit a simple linear regression model using the\n",
    "OLS method."
   ]
  },
  {
   "cell_type": "code",
   "execution_count": 3,
   "metadata": {},
   "outputs": [
    {
     "data": {
      "text/plain": [
       "array([[ 3.],\n",
       "       [ 5.],\n",
       "       [ 2.],\n",
       "       [ 7.],\n",
       "       [ 8.],\n",
       "       [ 1.],\n",
       "       [ 4.],\n",
       "       [ 6.],\n",
       "       [ 9.],\n",
       "       [10.]])"
      ]
     },
     "execution_count": 3,
     "metadata": {},
     "output_type": "execute_result"
    }
   ],
   "source": [
    "X = df['Advertising Budget (X)'].values.reshape(-1, 1)\n",
    "X"
   ]
  },
  {
   "cell_type": "code",
   "execution_count": 4,
   "metadata": {},
   "outputs": [
    {
     "data": {
      "text/plain": [
       "array([[ 1.,  3.],\n",
       "       [ 1.,  5.],\n",
       "       [ 1.,  2.],\n",
       "       [ 1.,  7.],\n",
       "       [ 1.,  8.],\n",
       "       [ 1.,  1.],\n",
       "       [ 1.,  4.],\n",
       "       [ 1.,  6.],\n",
       "       [ 1.,  9.],\n",
       "       [ 1., 10.]])"
      ]
     },
     "execution_count": 4,
     "metadata": {},
     "output_type": "execute_result"
    }
   ],
   "source": [
    "# เพิ่ม column ที่มีแต่ 1 เข้าไปอีกหลัก เพราะไม่งั้นจะไม่มี intercept\n",
    "X_with_intercept = np.hstack([np.ones((X.shape[0], 1)), X])\n",
    "\n",
    "X_with_intercept"
   ]
  },
  {
   "cell_type": "code",
   "execution_count": 5,
   "metadata": {},
   "outputs": [
    {
     "data": {
      "text/plain": [
       "array([[ 6.],\n",
       "       [ 9.],\n",
       "       [ 4.],\n",
       "       [10.],\n",
       "       [12.],\n",
       "       [ 3.],\n",
       "       [ 7.],\n",
       "       [ 8.],\n",
       "       [13.],\n",
       "       [15.]])"
      ]
     },
     "execution_count": 5,
     "metadata": {},
     "output_type": "execute_result"
    }
   ],
   "source": [
    "Y = df['Sales (Y)'].values.reshape(-1, 1)\n",
    "Y"
   ]
  },
  {
   "cell_type": "code",
   "execution_count": 6,
   "metadata": {},
   "outputs": [
    {
     "data": {
      "text/plain": [
       "array([[1.73333333],\n",
       "       [1.26666667]])"
      ]
     },
     "execution_count": 6,
     "metadata": {},
     "output_type": "execute_result"
    }
   ],
   "source": [
    "OLS = np.matmul((np.linalg.pinv(X_with_intercept)), Y)\n",
    "OLS"
   ]
  },
  {
   "cell_type": "markdown",
   "metadata": {},
   "source": [
    "So Alpha = 1.73 and Beta = 1.267"
   ]
  },
  {
   "cell_type": "markdown",
   "metadata": {},
   "source": [
    "That's mean the simple regression of OLS method is `Y = ((1.267) * X) + 1.733`"
   ]
  },
  {
   "cell_type": "markdown",
   "metadata": {},
   "source": [
    "---"
   ]
  },
  {
   "cell_type": "markdown",
   "metadata": {},
   "source": [
    "b. Compute the regression coefficients (intercept and slope)."
   ]
  },
  {
   "cell_type": "code",
   "execution_count": 1,
   "metadata": {},
   "outputs": [
    {
     "ename": "NameError",
     "evalue": "name 'np' is not defined",
     "output_type": "error",
     "traceback": [
      "\u001b[1;31m---------------------------------------------------------------------------\u001b[0m",
      "\u001b[1;31mNameError\u001b[0m                                 Traceback (most recent call last)",
      "Cell \u001b[1;32mIn[1], line 2\u001b[0m\n\u001b[0;32m      1\u001b[0m \u001b[38;5;66;03m# Calculate the intercept (alpha)\u001b[39;00m\n\u001b[1;32m----> 2\u001b[0m alpha \u001b[38;5;241m=\u001b[39m (\u001b[43mnp\u001b[49m\u001b[38;5;241m.\u001b[39msum(Y) \u001b[38;5;241m*\u001b[39m np\u001b[38;5;241m.\u001b[39msum(X\u001b[38;5;241m*\u001b[39m\u001b[38;5;241m*\u001b[39m\u001b[38;5;241m2\u001b[39m) \u001b[38;5;241m-\u001b[39m np\u001b[38;5;241m.\u001b[39msum(X \u001b[38;5;241m*\u001b[39m Y) \u001b[38;5;241m*\u001b[39m np\u001b[38;5;241m.\u001b[39msum(X)) \u001b[38;5;241m/\u001b[39m (\u001b[38;5;28mlen\u001b[39m(X) \u001b[38;5;241m*\u001b[39m np\u001b[38;5;241m.\u001b[39msum(X\u001b[38;5;241m*\u001b[39m\u001b[38;5;241m*\u001b[39m\u001b[38;5;241m2\u001b[39m) \u001b[38;5;241m-\u001b[39m np\u001b[38;5;241m.\u001b[39msum(X)\u001b[38;5;241m*\u001b[39m\u001b[38;5;241m*\u001b[39m\u001b[38;5;241m2\u001b[39m)\n\u001b[0;32m      4\u001b[0m \u001b[38;5;66;03m# Calculate the slope (beta)\u001b[39;00m\n\u001b[0;32m      5\u001b[0m beta \u001b[38;5;241m=\u001b[39m (\u001b[38;5;28mlen\u001b[39m(X) \u001b[38;5;241m*\u001b[39m np\u001b[38;5;241m.\u001b[39msum(X \u001b[38;5;241m*\u001b[39m Y) \u001b[38;5;241m-\u001b[39m np\u001b[38;5;241m.\u001b[39msum(X) \u001b[38;5;241m*\u001b[39m np\u001b[38;5;241m.\u001b[39msum(Y)) \u001b[38;5;241m/\u001b[39m (\u001b[38;5;28mlen\u001b[39m(X) \u001b[38;5;241m*\u001b[39m np\u001b[38;5;241m.\u001b[39msum(X\u001b[38;5;241m*\u001b[39m\u001b[38;5;241m*\u001b[39m\u001b[38;5;241m2\u001b[39m) \u001b[38;5;241m-\u001b[39m np\u001b[38;5;241m.\u001b[39msum(X)\u001b[38;5;241m*\u001b[39m\u001b[38;5;241m*\u001b[39m\u001b[38;5;241m2\u001b[39m)\n",
      "\u001b[1;31mNameError\u001b[0m: name 'np' is not defined"
     ]
    }
   ],
   "source": [
    "# Calculate the intercept (alpha)\n",
    "alpha = (np.sum(Y) * np.sum(X**2) - np.sum(X * Y) * np.sum(X)) / (len(X) * np.sum(X**2) - np.sum(X)**2)\n",
    "\n",
    "# Calculate the slope (beta)\n",
    "beta = (len(X) * np.sum(X * Y) - np.sum(X) * np.sum(Y)) / (len(X) * np.sum(X**2) - np.sum(X)**2)"
   ]
  },
  {
   "cell_type": "code",
   "execution_count": 8,
   "metadata": {},
   "outputs": [
    {
     "data": {
      "text/plain": [
       "(1.7333333333333334, 1.2666666666666666)"
      ]
     },
     "execution_count": 8,
     "metadata": {},
     "output_type": "execute_result"
    }
   ],
   "source": [
    "alpha, beta"
   ]
  },
  {
   "cell_type": "markdown",
   "metadata": {},
   "source": [
    "c. Write down the equation of the fitted line."
   ]
  },
  {
   "cell_type": "markdown",
   "metadata": {},
   "source": [
    "<img src=\"https://miro.medium.com/v2/resize:fit:828/format:webp/1*TDlbLC_uEEPdO_hvOgITCA.png\"/>"
   ]
  },
  {
   "cell_type": "code",
   "execution_count": 9,
   "metadata": {},
   "outputs": [
    {
     "name": "stdout",
     "output_type": "stream",
     "text": [
      "The equation of the fitted line is: y = 1.73 + 1.27x\n"
     ]
    }
   ],
   "source": [
    "fitted_line_eq = f\"y = {alpha:.2f} + {beta:.2f}x\"\n",
    "print(f\"The equation of the fitted line is: {fitted_line_eq}\")"
   ]
  },
  {
   "cell_type": "markdown",
   "metadata": {},
   "source": [
    "---"
   ]
  },
  {
   "cell_type": "markdown",
   "metadata": {},
   "source": [
    "## 2. Interpret the Results:\n",
    "\n",
    "* a. Explain the meaning of the slope and intercept in the context of this\n",
    "problem.\n",
    "\n",
    "จากสมการ Simple Regression คือ Y = α + 𝛽X\n",
    "\n",
    "ในเชิงของ Slope (𝛽) - คือความชันของสมการซึ่งแปรผันตรงกับตัวแปร X\n",
    "\n",
    "ในเชิงของ Intercept (α) - คือ ค่าคงที่ ไม่ขึ้นกับตัวแปรใด "
   ]
  },
  {
   "cell_type": "markdown",
   "metadata": {},
   "source": [
    "* b. Predict the sales if the advertising budget is $12,000."
   ]
  },
  {
   "cell_type": "code",
   "execution_count": 21,
   "metadata": {},
   "outputs": [
    {
     "name": "stdout",
     "output_type": "stream",
     "text": [
      "15201.733333333334 ฿\n"
     ]
    }
   ],
   "source": [
    "budget = 12000\n",
    "\n",
    "predicted = alpha + (beta * budget)\n",
    "\n",
    "print(predicted, \"฿\")"
   ]
  },
  {
   "cell_type": "markdown",
   "metadata": {},
   "source": [
    "---"
   ]
  },
  {
   "cell_type": "markdown",
   "metadata": {},
   "source": [
    "## 3. Model Evaluation:"
   ]
  },
  {
   "cell_type": "markdown",
   "metadata": {},
   "source": [
    "* a. Calculate the R-squared value to determine the goodness of fit for\n",
    "your model."
   ]
  },
  {
   "cell_type": "markdown",
   "metadata": {},
   "source": [
    "<img src=\"https://miro.medium.com/v2/resize:fit:1200/1*_mVvAFVEGinHlijmmeWwzg.png\"\n",
    "height=\"150\"/>"
   ]
  },
  {
   "cell_type": "markdown",
   "metadata": {},
   "source": [
    "References from https://medium.com/analytics-vidhya/r-squared-formula-explanation-6dc0096ce3ba"
   ]
  },
  {
   "cell_type": "code",
   "execution_count": 15,
   "metadata": {},
   "outputs": [
    {
     "name": "stdout",
     "output_type": "stream",
     "text": [
      "97.25691893215773 %\n"
     ]
    }
   ],
   "source": [
    "SS_res = np.sum((Y - (alpha + beta * X))**2)\n",
    "SS_tot = np.sum((Y - np.mean(Y))**2)\n",
    "\n",
    "R_squared = 1 - (SS_res / SS_tot)\n",
    "\n",
    "print(R_squared * 100, \"%\")"
   ]
  },
  {
   "cell_type": "markdown",
   "metadata": {},
   "source": [
    "* b. Provide a brief interpretation of the R-squared value obtained."
   ]
  },
  {
   "cell_type": "markdown",
   "metadata": {},
   "source": [
    "R-squared คือมาตรที่เอาไว้วัดว่าโมเดล Regression ของเราสามารถอธิบายข้อมูลที่สังเกตได้ หรือก็คือมัน Fits กับข้อมูลของเรา\n",
    "\n",
    "โดยปกติ R-squared มีค่าระหว่าง 0 - 100%\n",
    "\n",
    "สรุปค่าที่เราได้คือ 97% หมายถึงว่า มีความต่างของ r ของทุกจุดกับเส้นกำลังสองน้อยมาก \n",
    "\n",
    "ดังนั้นหมายความว่าเส้น Simple Linear Regression ของเราสามารถอธิบายข้อมูลได้"
   ]
  },
  {
   "cell_type": "markdown",
   "metadata": {},
   "source": [
    "* เพื่อความแน่ใจว่าโมเดลของเราดีจริงหรือไม่ เราจะทดลองพล็อตกราฟระหว่างจุด และสมการเส้นตรงของเรา ว่าตรงกับผลลัพธ์ R-squared หรือไม่"
   ]
  },
  {
   "cell_type": "code",
   "execution_count": 22,
   "metadata": {},
   "outputs": [
    {
     "data": {
      "image/png": "[encoded data removed]",
      "text/plain": [
       "<Figure size 640x480 with 1 Axes>"
      ]
     },
     "metadata": {},
     "output_type": "display_data"
    }
   ],
   "source": [
    "import matplotlib.pyplot as plt\n",
    "\n",
    "plt.scatter(X, Y, color='blue')\n",
    "plt.plot(X, alpha + beta * X, color='red')\n",
    "plt.title('Advertising Budget vs. Sales')\n",
    "plt.xlabel('Advertising Budget (X)')\n",
    "plt.ylabel('Sales (Y)')\n",
    "plt.show()"
   ]
  },
  {
   "cell_type": "markdown",
   "metadata": {},
   "source": [
    "---"
   ]
  },
  {
   "cell_type": "markdown",
   "metadata": {},
   "source": [
    "<p style=\"color: greenyellow;\"> ศวิษฐ์ โกสียอัมพร 65070507238 </p>"
   ]
  }
 ],
 "metadata": {
  "kernelspec": {
   "display_name": "Python 3",
   "language": "python",
   "name": "python3"
  },
  "language_info": {
   "codemirror_mode": {
    "name": "ipython",
    "version": 3
   },
   "file_extension": ".py",
   "mimetype": "text/x-python",
   "name": "python",
   "nbconvert_exporter": "python",
   "pygments_lexer": "ipython3",
   "version": "3.11.4"
  }
 },
 "nbformat": 4,
 "nbformat_minor": 2
}
